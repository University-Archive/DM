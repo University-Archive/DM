{
 "cells": [
  {
   "cell_type": "code",
   "execution_count": 136,
   "metadata": {},
   "outputs": [],
   "source": [
    "import numpy as np\n",
    "import pandas as pd\n",
    "import matplotlib.pyplot as plt\n",
    "import sklearn"
   ]
  },
  {
   "cell_type": "code",
   "execution_count": 310,
   "metadata": {},
   "outputs": [],
   "source": [
    "data = pd.read_csv('student.csv', sep=';')\n",
    "filtered_data = data.filter(['age', 'Medu', 'Fedu', 'traveltime', 'studytime', 'failures', 'famrel', 'freetime', 'goout', 'Dalc', 'Walc', 'health', 'absences', 'G3'])\n",
    "train_set = filtered_data.sample(frac=0.8)\n",
    "test_set = filtered_data.drop(train_set.index)"
   ]
  },
  {
   "cell_type": "code",
   "execution_count": 311,
   "metadata": {},
   "outputs": [],
   "source": [
    "X = train_set.values[:, 0:-1]\n",
    "(n, m) = X.shape\n",
    "y = train_set.values[:, -1].reshape(n, 1)\n",
    "B = np.zeros([m, 1])"
   ]
  },
  {
   "cell_type": "code",
   "execution_count": 312,
   "metadata": {
    "scrolled": false
   },
   "outputs": [],
   "source": [
    "e = 0.00001\n",
    "a = 0.00001\n",
    "delta = X.transpose().dot(X).dot(B) - X.transpose().dot(y)\n",
    "B -= a * delta\n",
    "while np.amax(abs(delta)) > e:\n",
    "    delta = a * (X.transpose().dot(X).dot(B) - X.transpose().dot(y))\n",
    "    B -= delta"
   ]
  },
  {
   "cell_type": "code",
   "execution_count": 313,
   "metadata": {},
   "outputs": [],
   "source": [
    "X_test = test_set.values[:, 0:-1]\n",
    "(n_test, m_test) = X_test.shape\n",
    "y_test = test_set.values[:, -1].reshape(n_test, 1)\n",
    "error = X_test.dot(B) - y_test"
   ]
  },
  {
   "cell_type": "code",
   "execution_count": 327,
   "metadata": {},
   "outputs": [
    {
     "name": "stdout",
     "output_type": "stream",
     "text": [
      "Mean Absolute Error: 3.225596788976224\n"
     ]
    }
   ],
   "source": [
    "print('Mean Absolute Error:', np.mean(abs(error)))"
   ]
  }
 ],
 "metadata": {
  "kernelspec": {
   "display_name": "Python 3",
   "language": "python",
   "name": "python3"
  },
  "language_info": {
   "codemirror_mode": {
    "name": "ipython",
    "version": 3
   },
   "file_extension": ".py",
   "mimetype": "text/x-python",
   "name": "python",
   "nbconvert_exporter": "python",
   "pygments_lexer": "ipython3",
   "version": "3.7.6"
  }
 },
 "nbformat": 4,
 "nbformat_minor": 4
}
