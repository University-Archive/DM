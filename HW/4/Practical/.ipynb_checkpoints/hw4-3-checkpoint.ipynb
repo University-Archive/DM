{
 "cells": [
  {
   "cell_type": "code",
   "execution_count": 1,
   "metadata": {},
   "outputs": [],
   "source": [
    "import folium\n",
    "from sklearn.cluster import DBSCAN\n",
    "import pandas as pd"
   ]
  },
  {
   "cell_type": "code",
   "execution_count": 2,
   "metadata": {},
   "outputs": [],
   "source": [
    "def read_csv(path):\n",
    "    return pd.read_csv(path)"
   ]
  },
  {
   "cell_type": "code",
   "execution_count": 3,
   "metadata": {},
   "outputs": [
    {
     "data": {
      "text/html": [
       "<div>\n",
       "<style scoped>\n",
       "    .dataframe tbody tr th:only-of-type {\n",
       "        vertical-align: middle;\n",
       "    }\n",
       "\n",
       "    .dataframe tbody tr th {\n",
       "        vertical-align: top;\n",
       "    }\n",
       "\n",
       "    .dataframe thead th {\n",
       "        text-align: right;\n",
       "    }\n",
       "</style>\n",
       "<table border=\"1\" class=\"dataframe\">\n",
       "  <thead>\n",
       "    <tr style=\"text-align: right;\">\n",
       "      <th></th>\n",
       "      <th>39.37962</th>\n",
       "      <th>44.39011</th>\n",
       "    </tr>\n",
       "  </thead>\n",
       "  <tbody>\n",
       "    <tr>\n",
       "      <th>0</th>\n",
       "      <td>39.33063</td>\n",
       "      <td>44.14934</td>\n",
       "    </tr>\n",
       "    <tr>\n",
       "      <th>1</th>\n",
       "      <td>39.20938</td>\n",
       "      <td>44.76798</td>\n",
       "    </tr>\n",
       "    <tr>\n",
       "      <th>2</th>\n",
       "      <td>39.27789</td>\n",
       "      <td>44.54155</td>\n",
       "    </tr>\n",
       "    <tr>\n",
       "      <th>3</th>\n",
       "      <td>39.29137</td>\n",
       "      <td>44.46958</td>\n",
       "    </tr>\n",
       "    <tr>\n",
       "      <th>4</th>\n",
       "      <td>39.28080</td>\n",
       "      <td>44.46657</td>\n",
       "    </tr>\n",
       "    <tr>\n",
       "      <th>...</th>\n",
       "      <td>...</td>\n",
       "      <td>...</td>\n",
       "    </tr>\n",
       "    <tr>\n",
       "      <th>18187</th>\n",
       "      <td>33.70264</td>\n",
       "      <td>59.26388</td>\n",
       "    </tr>\n",
       "    <tr>\n",
       "      <th>18188</th>\n",
       "      <td>32.59978</td>\n",
       "      <td>59.40304</td>\n",
       "    </tr>\n",
       "    <tr>\n",
       "      <th>18189</th>\n",
       "      <td>33.54605</td>\n",
       "      <td>56.94985</td>\n",
       "    </tr>\n",
       "    <tr>\n",
       "      <th>18190</th>\n",
       "      <td>34.18181</td>\n",
       "      <td>58.02116</td>\n",
       "    </tr>\n",
       "    <tr>\n",
       "      <th>18191</th>\n",
       "      <td>25.55712</td>\n",
       "      <td>57.12496</td>\n",
       "    </tr>\n",
       "  </tbody>\n",
       "</table>\n",
       "<p>18192 rows × 2 columns</p>\n",
       "</div>"
      ],
      "text/plain": [
       "       39.37962  44.39011\n",
       "0      39.33063  44.14934\n",
       "1      39.20938  44.76798\n",
       "2      39.27789  44.54155\n",
       "3      39.29137  44.46958\n",
       "4      39.28080  44.46657\n",
       "...         ...       ...\n",
       "18187  33.70264  59.26388\n",
       "18188  32.59978  59.40304\n",
       "18189  33.54605  56.94985\n",
       "18190  34.18181  58.02116\n",
       "18191  25.55712  57.12496\n",
       "\n",
       "[18192 rows x 2 columns]"
      ]
     },
     "execution_count": 3,
     "metadata": {},
     "output_type": "execute_result"
    }
   ],
   "source": [
    "covid_df = read_csv(\"./data/covid.csv\")\n",
    "covid_df"
   ]
  },
  {
   "cell_type": "code",
   "execution_count": 4,
   "metadata": {
    "scrolled": true
   },
   "outputs": [],
   "source": [
    "# create Iran map\n",
    "m = folium.Map(location=[32.427910, 53.688046], zoom_start=5)\n",
    "\n",
    "# visualize data\n",
    "for index, row in covid_df.iterrows():\n",
    "    folium.Circle(location=[row[0], row[1]], radius=1, color=\"red\", fill=True).add_to(m)\n",
    "m"
   ]
  },
  {
   "cell_type": "code",
   "execution_count": 5,
   "metadata": {},
   "outputs": [],
   "source": [
    "def calc_DBSCAN(eps, min_samples):\n",
    "    clustering = DBSCAN(eps=eps, min_samples=min_samples).fit_predict(covid_df)\n",
    "    print(\"Clusters: \", end='')\n",
    "    clusters = []\n",
    "    for i in clustering.flatten():\n",
    "        if i not in clusters: \n",
    "            clusters.append(i)\n",
    "            print(f\"{i} \", end='')\n",
    "    return pd.DataFrame({ 'X': covid_df.iloc[:, 0], 'Y': covid_df.iloc[:, 1], 'Cluster': clustering.flatten() })"
   ]
  },
  {
   "cell_type": "code",
   "execution_count": 6,
   "metadata": {},
   "outputs": [],
   "source": [
    "colors = [\"red\", \"blue\", \"green\", \"purple\", \"orange\", \"darkred\", \"lightred\", \"beige\", \"darkblue\", \"darkgreen\", \"cadetblue\", \"darkpurple\", \"white\", \"pink\", \"lightblue\", \"lightgreen\", \"gray\", \"lightgray\"]"
   ]
  },
  {
   "cell_type": "code",
   "execution_count": 7,
   "metadata": {},
   "outputs": [
    {
     "name": "stdout",
     "output_type": "stream",
     "text": [
      "Clusters: 0 -1 1 2 "
     ]
    }
   ],
   "source": [
    "start = calc_DBSCAN(1, 150)\n",
    "for index, row in start.iterrows():\n",
    "    color = ''\n",
    "    if row[2] != -1:\n",
    "        color = colors[int(row[2])]\n",
    "    else: \n",
    "        color = \"black\"\n",
    "    folium.Circle(location=[row[0], row[1]], radius=1, color=color, fill=True).add_to(m)\n",
    "m"
   ]
  },
  {
   "cell_type": "code",
   "execution_count": 8,
   "metadata": {},
   "outputs": [
    {
     "name": "stdout",
     "output_type": "stream",
     "text": [
      "Clusters: -1 4 0 1 2 3 5 "
     ]
    }
   ],
   "source": [
    "final_test = calc_DBSCAN(0.2, 300)\n",
    "for index, row in final_test.iterrows():\n",
    "    color = ''\n",
    "    if row[2] != -1:\n",
    "        color = colors[int(row[2])]\n",
    "    else: \n",
    "        color = \"black\"\n",
    "    folium.Circle(location=[row[0], row[1]], radius=1, color=color, fill=True).add_to(m)\n",
    "m"
   ]
  },
  {
   "cell_type": "code",
   "execution_count": 9,
   "metadata": {},
   "outputs": [
    {
     "name": "stdout",
     "output_type": "stream",
     "text": [
      "Clusters: -1 0 1 2 3 5 4 6 7 8 "
     ]
    }
   ],
   "source": [
    "final_test = calc_DBSCAN(0.1, 200)\n",
    "for index, row in final_test.iterrows():\n",
    "    color = ''\n",
    "    if row[2] != -1:\n",
    "        color = colors[int(row[2])]\n",
    "    else: \n",
    "        color = \"black\"\n",
    "    folium.Circle(location=[row[0], row[1]], radius=1, color=color, fill=True).add_to(m)\n",
    "m"
   ]
  }
 ],
 "metadata": {
  "kernelspec": {
   "display_name": "Python 3",
   "language": "python",
   "name": "python3"
  },
  "language_info": {
   "codemirror_mode": {
    "name": "ipython",
    "version": 3
   },
   "file_extension": ".py",
   "mimetype": "text/x-python",
   "name": "python",
   "nbconvert_exporter": "python",
   "pygments_lexer": "ipython3",
   "version": "3.7.6"
  }
 },
 "nbformat": 4,
 "nbformat_minor": 4
}
